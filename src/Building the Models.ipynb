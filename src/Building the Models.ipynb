{
  "nbformat": 4,
  "nbformat_minor": 0,
  "metadata": {
    "colab": {
      "provenance": []
    },
    "kernelspec": {
      "name": "python3",
      "display_name": "Python 3"
    },
    "language_info": {
      "name": "python"
    }
  },
  "cells": [
    {
      "cell_type": "code",
      "execution_count": null,
      "metadata": {
        "id": "xqr7Y71bcI2U"
      },
      "outputs": [],
      "source": [
        "import pandas as pd\n",
        "import numpy as np\n",
        "from sklearn.metrics import root_mean_squared_error\n",
        "\n",
        "X_train = pd.read_csv('x_train.csv')\n",
        "y_train = pd.read_csv('y_train.csv')\n",
        "X_val = pd.read_csv('x_val.csv')\n",
        "y_val = pd.read_csv('y_val.csv')"
      ]
    },
    {
      "cell_type": "code",
      "source": [
        "from sklearn.neighbors import KNeighborsRegressor\n",
        "\n",
        "model1 = KNeighborsRegressor()\n",
        "model1.fit(X_train, y_train)\n",
        "pred = model1.predict(X_val)\n",
        "loss1 = root_mean_squared_error(y_val, pred)\n",
        "print(loss1)"
      ],
      "metadata": {
        "colab": {
          "base_uri": "https://localhost:8080/"
        },
        "id": "s6S_sx3Sbwwe",
        "outputId": "0e038c73-bcc6-4364-b0fd-f2f5df6e46b9"
      },
      "execution_count": null,
      "outputs": [
        {
          "output_type": "stream",
          "name": "stdout",
          "text": [
            "153608.27948305153\n"
          ]
        }
      ]
    },
    {
      "cell_type": "code",
      "source": [
        "from sklearn.linear_model import LinearRegression\n",
        "\n",
        "model2 = LinearRegression()\n",
        "model2.fit(X_train, y_train)\n",
        "pred = model2.predict(X_val)\n",
        "loss2 = root_mean_squared_error(y_val, pred)\n",
        "print(loss2)"
      ],
      "metadata": {
        "colab": {
          "base_uri": "https://localhost:8080/"
        },
        "id": "Ro2O3uFTL0iq",
        "outputId": "ef7cd93b-9994-429c-e1a7-d14e2e26a5ad"
      },
      "execution_count": null,
      "outputs": [
        {
          "output_type": "stream",
          "name": "stdout",
          "text": [
            "3991682237.081083\n"
          ]
        }
      ]
    },
    {
      "cell_type": "code",
      "source": [
        "from sklearn.ensemble import RandomForestRegressor\n",
        "\n",
        "model3 = RandomForestRegressor()\n",
        "model3.fit(X_train, y_train)\n",
        "pred = model3.predict(X_val)\n",
        "loss3 = root_mean_squared_error(y_val, pred)\n",
        "print(loss3)"
      ],
      "metadata": {
        "colab": {
          "base_uri": "https://localhost:8080/"
        },
        "id": "mwDF3Tj-NVo_",
        "outputId": "fe8f689d-23c4-4fdd-900f-fa4beaabd509"
      },
      "execution_count": null,
      "outputs": [
        {
          "output_type": "stream",
          "name": "stderr",
          "text": [
            "/usr/local/lib/python3.11/dist-packages/sklearn/base.py:1389: DataConversionWarning: A column-vector y was passed when a 1d array was expected. Please change the shape of y to (n_samples,), for example using ravel().\n",
            "  return fit_method(estimator, *args, **kwargs)\n"
          ]
        },
        {
          "output_type": "stream",
          "name": "stdout",
          "text": [
            "130684.8642849019\n"
          ]
        }
      ]
    },
    {
      "cell_type": "code",
      "source": [
        "from sklearn.tree import DecisionTreeRegressor\n",
        "\n",
        "model4 = DecisionTreeRegressor()\n",
        "model4.fit(X_train, y_train)\n",
        "pred = model4.predict(X_val)\n",
        "loss4 = root_mean_squared_error(y_val, pred)\n",
        "print(loss4)"
      ],
      "metadata": {
        "colab": {
          "base_uri": "https://localhost:8080/"
        },
        "id": "iSQihm0RkWsq",
        "outputId": "8d5aa48a-f1d0-4a4f-fe3e-2a81f56c5e31"
      },
      "execution_count": null,
      "outputs": [
        {
          "output_type": "stream",
          "name": "stdout",
          "text": [
            "179762.81450816608\n"
          ]
        }
      ]
    },
    {
      "cell_type": "code",
      "source": [
        "from xgboost import XGBRegressor\n",
        "\n",
        "model5 = XGBRegressor()\n",
        "model5.fit(X_train, y_train)\n",
        "pred = model5.predict(X_val)\n",
        "loss5 = root_mean_squared_error(y_val, pred)\n",
        "print(loss5)"
      ],
      "metadata": {
        "colab": {
          "base_uri": "https://localhost:8080/"
        },
        "id": "Xiq1aJiSrrE9",
        "outputId": "13059e83-1b22-4c78-908b-b3bbfa184c97"
      },
      "execution_count": null,
      "outputs": [
        {
          "output_type": "stream",
          "name": "stdout",
          "text": [
            "144157.359375\n"
          ]
        }
      ]
    }
  ]
}